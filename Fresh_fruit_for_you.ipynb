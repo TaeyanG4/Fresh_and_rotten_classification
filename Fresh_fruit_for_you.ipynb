{
  "nbformat": 4,
  "nbformat_minor": 0,
  "metadata": {
    "colab": {
      "provenance": []
    },
    "kernelspec": {
      "name": "python3",
      "display_name": "Python 3"
    },
    "language_info": {
      "name": "python"
    }
  },
  "cells": [
    {
      "cell_type": "markdown",
      "source": [
        "<a href=\"https://colab.research.google.com/drive/1HJhyPwhf4uBJt4zbk2BwfXoVU_6mpmfW?usp=sharing\" target=\"_parent\"><img src=\"https://colab.research.google.com/assets/colab-badge.svg\" alt=\"Open In Colab\"/></a>\n",
        "\n",
        "# Fresh fruit for you Project\n",
        "\n",
        "* 썩거나 상한과일과 신선한과일을 분류할 수 있는 노트북입니다.\n",
        "* 가상의 회사 (주)과일드림의 과일분류 작업효율 향상을 위하여 개발된 딥러닝 모델입니다.\n",
        "* **현재까진 사과,바나나,귤만 가능합니다.**\n",
        "* 실행하기전 런타임을 GPU로 맞춘다면 더 나은속도와 성능이 보장됩니다. \n",
        "  * Runtime >> Change Runtime Type >> GPU\n",
        "\n",
        "\n"
      ],
      "metadata": {
        "id": "KR0hS45ClC9_"
      }
    },
    {
      "cell_type": "markdown",
      "source": [
        "# Instructions\n",
        "* Ctrl+f9(모두 실행)를 이용하여 진행하거나, Step옆의 ![image.png](data:image/png;base64,iVBORw0KGgoAAAANSUhEUgAAABoAAAAeCAYAAAAy2w7YAAAAAXNSR0IArs4c6QAAAARnQU1BAACxjwv8YQUAAAAJcEhZcwAADsMAAA7DAcdvqGQAAAF5SURBVEhL7ZWxcYMwFIZFUlICOwAzwBCwAwxASZWOzgPADjAEzADeAZjB8a+I2BKSgJzt3OXyNZI40CfpPT2MOI4v5AW8sfbp/It+zMtEu7LOdV3i+z5tPc8j4ziS8/lMpmkifd/T/hZakeM4JEkSOrkOiIuioK0Kpej6nERRxEbbQNJ1Hanrmj3heb+u9oP1vzkqAaZp0p0bhkGGYWBPb6ySAcd1VHJPEAQ0liIrEWKiQheDBSw0TVM2usGJwjDUBh4Bb5qGjdRAJu6KE+EFHdgRgr1HhutwDyeybZv19ECWZZn2KLU7kgVRBSS6oxQXvUqGI0CmOgUxDJwIJWUvmCjPc5pAMtq2Zb0vONGemgUw+el00maouGhOhAK5Be6I7J6IiInCieZ5lpaPBd1R3YM5tEeHVVRVxUZrtqr4gqywciIAWVmWbHQcpLss1isRwIt7br8IvlH9Jn7/x7cAmWVZtIVwqR5IX+z8Ib/yRyKN0TP4ayJCPgG126xf/iiOwwAAAABJRU5ErkJggg==) 버튼을 눌러서 진행할 수 있습니다.\n",
        "* 집에 있는사과,바나나,귤 사진도 가능하며, 네이버,구글에서 임의로 캡쳐해서 시도해도 좋습니다."
      ],
      "metadata": {
        "id": "2vlrMduvvxwy"
      }
    },
    {
      "cell_type": "code",
      "execution_count": null,
      "metadata": {
        "cellView": "form",
        "id": "qUBoKesDjGpR"
      },
      "outputs": [],
      "source": [
        "%%capture\n",
        "#@title Step 1: 모델구동을 위한 colab 환경설정\n",
        "#@markdown git clone을 이용하여 모델과 requirements.txt를 불러온뒤 로드하는 과정입니다.\n",
        "\n",
        "!git clone https://github.com/TaeyanG4/Fresh_and_rotten_classification.git\n",
        "!pip install -r ./Fresh_and_rotten_classification/requirements.txt\n",
        "\n",
        "from keras.models import load_model\n",
        "model_resnet=load_model('/content/Fresh_and_rotten_classification/rottenvsfresh_resnet_model.h5')"
      ]
    },
    {
      "cell_type": "code",
      "source": [
        "#@title Step 2: 이미지 업로드\n",
        "#@markdown 검증하고자 하는 과일이미지를 업로드 하는과정입니다.<br>\n",
        "#@markdown 검증하고자 하는파일이 없다면 sample폴더에서 랜덤으로 다운받아도 상관없습니다.<br>\n",
        "\n",
        "import os\n",
        "from google.colab import files\n",
        "import io\n",
        "import numpy as np\n",
        "from tensorflow.keras.preprocessing import image\n",
        "\n",
        "uploaded = files.upload()\n",
        "for fn in uploaded.keys():\n",
        "    # Load the image from the binary content\n",
        "    img = image.load_img(io.BytesIO(uploaded[fn]), target_size=(224,224))\n",
        "    \n",
        "    # Show the image\n",
        "    plt.imshow(img)\n",
        "    plt.axis('off')\n",
        "    plt.show()"
      ],
      "metadata": {
        "cellView": "form",
        "id": "p6MqNMJ_yGev"
      },
      "execution_count": null,
      "outputs": []
    },
    {
      "cell_type": "code",
      "source": [
        "#@title Step 3: 이미지 검증\n",
        "#@markdown 업로드한 이미지가 신선한 과일인지 썩은과일인지 판별하는 과정입니다.\n",
        "\n",
        "from tensorflow.keras.preprocessing import image\n",
        "from tensorflow.keras.applications.resnet_v2 import ResNet50V2, decode_predictions, preprocess_input\n",
        "import numpy as np\n",
        "import random\n",
        "import os\n",
        "import matplotlib.pyplot as plt\n",
        "\n",
        "for fn in uploaded.keys():\n",
        "    # Load the image from the binary content\n",
        "    img = image.load_img(io.BytesIO(uploaded[fn]), target_size=(224,224))\n",
        "    \n",
        "plt.imshow(img)\n",
        "\n",
        "# Convert PIL Image to NumPy array\n",
        "img_array = image.img_to_array(img)\n",
        "\n",
        "# Preprocess the image\n",
        "img_array = np.expand_dims(img_array, axis=0)\n",
        "img_array = preprocess_input(img_array)\n",
        "\n",
        "# Make the prediction\n",
        "prediction = model_resnet.predict(img_array)\n",
        "\n",
        "class_ind=np.argmax(prediction[0])\n",
        "\n",
        "prediction = ''\n",
        "\n",
        "if class_ind==0:\n",
        "    prediction = '신선한 사과'\n",
        "elif class_ind==1:\n",
        "    prediction = '신선한 바나나'\n",
        "elif class_ind==2:\n",
        "    prediction = '신선한 귤'\n",
        "elif class_ind==3:\n",
        "    prediction = '썩거나 상한 사과'\n",
        "elif class_ind==4:\n",
        "    prediction = '썩거나 상한 바나나'\n",
        "elif class_ind==5:\n",
        "    prediction = '썩거나 상한 귤'\n",
        "\n",
        "print(f\"이 과일이미지는 {prediction} 입니다.\")"
      ],
      "metadata": {
        "id": "JEpAfnSft_xA",
        "cellView": "form"
      },
      "execution_count": null,
      "outputs": []
    }
  ]
}